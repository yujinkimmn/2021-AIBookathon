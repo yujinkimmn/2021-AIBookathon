version https://git-lfs.github.com/spec/v1
oid sha256:e05912f83de5277f9d6b0f4ea6b16c059d73cfb4480189e10d077aebf35948e9
size 20951

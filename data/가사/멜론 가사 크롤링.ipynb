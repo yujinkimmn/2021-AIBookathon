version https://git-lfs.github.com/spec/v1
oid sha256:00e1ecbbf9b1580bca6ef6e6a171e118cc45efdb9dee5e8d28126811ace550c2
size 42997

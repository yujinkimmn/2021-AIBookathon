{
  "nbformat": 4,
  "nbformat_minor": 0,
  "metadata": {
    "colab": {
      "name": "브런치 전처리.ipynb",
      "provenance": []
    },
    "kernelspec": {
      "name": "python3",
      "display_name": "Python 3"
    },
    "language_info": {
      "name": "python"
    }
  },
  "cells": [
    {
      "cell_type": "code",
      "metadata": {
        "id": "rcw90dQ_n1Xi"
      },
      "source": [
        "from re import match, findall, sub\n",
        "import os\n"
      ],
      "execution_count": null,
      "outputs": []
    },
    {
      "cell_type": "code",
      "metadata": {
        "id": "SFQbhij1nvwh"
      },
      "source": [
        "# 전처리 함수 \n",
        "def clean_text(text):\n",
        "    texts_re = text.lower()\n",
        "    # texts_re1 = sub('(p[0-9]+)', '', texts_re) #특수문자 제거\n",
        "    texts_re2 = sub('[^0-9a-z가-힣.,?!%\\']', ' ', texts_re) # 영문자 제거\n",
        "    # texts_re2 = sub('[^가-힣.,?!]', '', texts_re1)\n",
        "\n",
        "    return texts_re2"
      ],
      "execution_count": null,
      "outputs": []
    },
    {
      "cell_type": "code",
      "metadata": {
        "colab": {
          "base_uri": "https://localhost:8080/"
        },
        "id": "XRTE9o6Gxj8B",
        "outputId": "822ba382-1ed5-438d-e797-089d66b6abc5"
      },
      "source": [
        "from google.colab import drive\n",
        "drive.mount('/content/drive')"
      ],
      "execution_count": 1,
      "outputs": [
        {
          "output_type": "stream",
          "name": "stdout",
          "text": [
            "Mounted at /content/drive\n"
          ]
        }
      ]
    },
    {
      "cell_type": "code",
      "metadata": {
        "id": "xR6n3I8InyMj",
        "colab": {
          "base_uri": "https://localhost:8080/",
          "height": 36
        },
        "outputId": "44210f75-fd38-4dd0-bcbd-b72c0387d9a8"
      },
      "source": [
        "f = open(\"/content/drive/MyDrive/2021 데컬코마니 북커톤/data/brunch_n/niO265.txt\")\n",
        "txt = f.read()\n",
        "txt"
      ],
      "execution_count": null,
      "outputs": [
        {
          "output_type": "execute_result",
          "data": {
            "application/vnd.google.colaboratory.intrinsic+json": {
              "type": "string"
            },
            "text/plain": [
              "'None'"
            ]
          },
          "metadata": {},
          "execution_count": 17
        }
      ]
    },
    {
      "cell_type": "code",
      "metadata": {
        "id": "Xq-hrlpvZVvx",
        "colab": {
          "base_uri": "https://localhost:8080/"
        },
        "outputId": "bd7f1db8-fa38-4e0d-ae6e-9659d9938289"
      },
      "source": [
        "clean_text(txt)=='none'"
      ],
      "execution_count": null,
      "outputs": [
        {
          "output_type": "execute_result",
          "data": {
            "text/plain": [
              "True"
            ]
          },
          "metadata": {},
          "execution_count": 19
        }
      ]
    },
    {
      "cell_type": "code",
      "metadata": {
        "id": "xJ7oXGSXwob3"
      },
      "source": [
        "path = '/content/drive/MyDrive/2021 데컬코마니 북커톤/data/brunch_n/'\n",
        "file_list = os.listdir(path)\n",
        "file_list_py = [file for file in file_list if file.endswith('.txt')]"
      ],
      "execution_count": null,
      "outputs": []
    },
    {
      "cell_type": "code",
      "metadata": {
        "id": "z4lbdbKiwrLn"
      },
      "source": [
        "for i in file_list_py:\n",
        "  try:\n",
        "    f = open(path+i)\n",
        "    txt = f.read()\n",
        "    i_modify = clean_text(txt)\n",
        "    if i_modify!='none':\n",
        "      ff = open('/content/drive/MyDrive/2021 데컬코마니 북커톤/data/brunch_p/'+i,'w')\n",
        "      ff.write(i_modify)\n",
        "      ff.close()\n",
        "  except:\n",
        "    print(i)"
      ],
      "execution_count": null,
      "outputs": []
    },
    {
      "cell_type": "code",
      "metadata": {
        "id": "apsORTKEH1W7"
      },
      "source": [
        "file_list_py"
      ],
      "execution_count": null,
      "outputs": []
    },
    {
      "cell_type": "code",
      "metadata": {
        "id": "X2vQAgXLRo0l"
      },
      "source": [
        ""
      ],
      "execution_count": null,
      "outputs": []
    }
  ]
}